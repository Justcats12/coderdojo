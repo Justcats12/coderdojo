{
 "cells": [
  {
   "cell_type": "markdown",
   "metadata": {},
   "source": [
    "# Booleans\n",
    "\n",
    "Booleans more than just two values."
   ]
  },
  {
   "cell_type": "code",
   "execution_count": 1,
   "metadata": {},
   "outputs": [
    {
     "data": {
      "text/plain": [
       "(True, False)"
      ]
     },
     "execution_count": 1,
     "metadata": {},
     "output_type": "execute_result"
    }
   ],
   "source": [
    "boolean_true = True\n",
    "boolean_false = False\n",
    "boolean_true, boolean_false"
   ]
  },
  {
   "cell_type": "markdown",
   "metadata": {},
   "source": [
    "## Casting\n",
    "\n",
    "Some values become true when casted to `bool()`"
   ]
  },
  {
   "cell_type": "code",
   "execution_count": 5,
   "metadata": {},
   "outputs": [
    {
     "name": "stdout",
     "output_type": "stream",
     "text": [
      "STRINGS filled: True ; empty: False\n",
      "INTS pos: True ; neg: True ; zero: False\n",
      "FLOATS pos: True ; neg: True ; zero: False\n"
     ]
    }
   ],
   "source": [
    "filled_string = bool(\"anything\")\n",
    "empty_string = bool(\"\")\n",
    "print(\"STRINGS filled:\", filled_string, \"; empty:\",empty_string)\n",
    "\n",
    "positive_int = bool(25)\n",
    "negative_int = bool(-5)\n",
    "zero = bool(0)\n",
    "print(\"INTS pos:\", positive_int, \"; neg:\", negative_int, \"; zero:\",zero)\n",
    "\n",
    "positive_float = bool(25.0)\n",
    "negative_float = bool(-5.0)\n",
    "zero_float = bool(0.0)\n",
    "print(\"FLOATS pos:\", positive_float, \"; neg:\", negative_float, \"; zero:\",zero_float)\n"
   ]
  },
  {
   "cell_type": "code",
   "execution_count": 10,
   "metadata": {},
   "outputs": [
    {
     "name": "stdout",
     "output_type": "stream",
     "text": [
      "Strings: True False\n",
      "Ints: 1 0\n",
      "Floats: 1.0 0.0\n"
     ]
    }
   ],
   "source": [
    "true_to_string = str(True)\n",
    "false_to_string = str(False)\n",
    "print(\"Strings:\", true_to_string, false_to_string)\n",
    "\n",
    "true_to_int = int(True)\n",
    "false_to_int = int(False)\n",
    "print(\"Ints:\", true_to_int, false_to_int)\n",
    "\n",
    "true_to_float = float(True)\n",
    "false_to_float = float(False)\n",
    "print(\"Floats:\", true_to_float, false_to_float)\n"
   ]
  },
  {
   "cell_type": "markdown",
   "metadata": {},
   "source": [
    "# Math with booleans"
   ]
  },
  {
   "cell_type": "code",
   "execution_count": 15,
   "metadata": {},
   "outputs": [
    {
     "data": {
      "text/plain": [
       "(False, True, True, True)"
      ]
     },
     "execution_count": 15,
     "metadata": {},
     "output_type": "execute_result"
    }
   ],
   "source": [
    "False or False, False or True, True or False, True or True"
   ]
  },
  {
   "cell_type": "code",
   "execution_count": 16,
   "metadata": {},
   "outputs": [
    {
     "data": {
      "text/plain": [
       "(False, False, False, True)"
      ]
     },
     "execution_count": 16,
     "metadata": {},
     "output_type": "execute_result"
    }
   ],
   "source": [
    "False and False, False and True, True and False, True and True"
   ]
  },
  {
   "cell_type": "code",
   "execution_count": 17,
   "metadata": {},
   "outputs": [
    {
     "data": {
      "text/plain": [
       "(True, False)"
      ]
     },
     "execution_count": 17,
     "metadata": {},
     "output_type": "execute_result"
    }
   ],
   "source": [
    "not False, not True"
   ]
  },
  {
   "cell_type": "code",
   "execution_count": 20,
   "metadata": {},
   "outputs": [
    {
     "name": "stdout",
     "output_type": "stream",
     "text": [
      "hello\n",
      "hello\n",
      "7\n"
     ]
    }
   ],
   "source": [
    "print(7 and \"hello\")\n",
    "print(\"hello\" or 0.0)\n",
    "print(0.0 or 7)"
   ]
  },
  {
   "cell_type": "code",
   "execution_count": 21,
   "metadata": {},
   "outputs": [
    {
     "data": {
      "text/plain": [
       "True"
      ]
     },
     "execution_count": 21,
     "metadata": {},
     "output_type": "execute_result"
    }
   ],
   "source": [
    "any([0, False, False, \"\", True])"
   ]
  },
  {
   "cell_type": "code",
   "execution_count": 22,
   "metadata": {},
   "outputs": [
    {
     "data": {
      "text/plain": [
       "True"
      ]
     },
     "execution_count": 22,
     "metadata": {},
     "output_type": "execute_result"
    }
   ],
   "source": [
    "all([\"hello\", 1, 5.2, True, True])"
   ]
  },
  {
   "cell_type": "code",
   "execution_count": 25,
   "metadata": {},
   "outputs": [
    {
     "data": {
      "text/plain": [
       "2"
      ]
     },
     "execution_count": 25,
     "metadata": {},
     "output_type": "execute_result"
    }
   ],
   "source": [
    "True + True + False"
   ]
  }
 ],
 "metadata": {
  "kernelspec": {
   "display_name": "Python 3",
   "language": "python",
   "name": "python3"
  },
  "language_info": {
   "codemirror_mode": {
    "name": "ipython",
    "version": 3
   },
   "file_extension": ".py",
   "mimetype": "text/x-python",
   "name": "python",
   "nbconvert_exporter": "python",
   "pygments_lexer": "ipython3",
   "version": "3.12.8"
  }
 },
 "nbformat": 4,
 "nbformat_minor": 2
}
